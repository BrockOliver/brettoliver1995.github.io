{
 "cells": [
  {
   "cell_type": "code",
   "execution_count": 1,
   "id": "7dcf5481",
   "metadata": {},
   "outputs": [],
   "source": [
    "import ulmo\n",
    "import pandas as pd\n",
    "import numpy as np\n",
    "import datetime as dt\n",
    "from dateutil.relativedelta import relativedelta\n",
    "import pdb\n",
    "import matplotlib.pyplot as plt\n",
    "import matplotlib.dates as mdates\n",
    "from climata.snotel import StationDailyDataIO\n",
    "import os"
   ]
  },
  {
   "cell_type": "code",
   "execution_count": 2,
   "id": "4d0d0756",
   "metadata": {},
   "outputs": [],
   "source": [
    "#change to directory with climate data"
   ]
  },
  {
   "cell_type": "code",
   "execution_count": 3,
   "id": "ff61b426",
   "metadata": {},
   "outputs": [
    {
     "name": "stdout",
     "output_type": "stream",
     "text": [
      "                    date  distance_to_ground_surface_m  snow_depth_m_xbev  \\\n",
      "0    2020-10-07 10:00:00                         2.201              0.244   \n",
      "1    2020-10-07 11:00:00                         2.178              0.267   \n",
      "2    2020-10-07 12:00:00                         2.177              0.268   \n",
      "3    2020-10-07 13:00:00                         2.177              0.268   \n",
      "4    2020-10-07 14:00:00                         2.174              0.271   \n",
      "...                  ...                           ...                ...   \n",
      "6381 2021-06-30 07:00:00                         2.094              0.351   \n",
      "6382 2021-06-30 08:00:00                         2.086              0.359   \n",
      "6383 2021-06-30 09:00:00                         2.059              0.386   \n",
      "6384 2021-06-30 10:00:00                         2.085              0.360   \n",
      "6385 2021-06-30 11:00:00                         2.056              0.389   \n",
      "\n",
      "      bev_elev_m  \n",
      "0           2157  \n",
      "1           2157  \n",
      "2           2157  \n",
      "3           2157  \n",
      "4           2157  \n",
      "...          ...  \n",
      "6381        2157  \n",
      "6382        2157  \n",
      "6383        2157  \n",
      "6384        2157  \n",
      "6385        2157  \n",
      "\n",
      "[6386 rows x 4 columns]\n"
     ]
    }
   ],
   "source": [
    "working_directory = \"/Users/brettoliver/documents/grad_school/code/fres/data/station_climate\" #sets working directory to folder with station data\n",
    "os.chdir(working_directory) #changes current directory to 'working_directory'\n",
    "\n",
    "filename = 'XBEV_30Jun2021_alldatafromdatalogger.dat'\n",
    "bev = pd.read_csv(filename, skiprows = [0,2,3], header=[0])\n",
    "bev = bev.rename({'TIMESTAMP': 'datetime'}, axis = 1)\n",
    "bev['datetime'] = pd.to_datetime(bev['datetime'], infer_datetime_format=True)\n",
    "bev = bev[['datetime', 'INST_DT']]\n",
    "bev = bev.rename({'datetime': 'date', 'INST_DT': 'distance_to_ground_surface_m'}, axis=1)\n",
    "\n",
    "SR_50_Height_m = 2.445 #Height of SR-50 above ground in meters. See XMOC install report            \n",
    "\n",
    "#subtract SR50 height from the distance to ground to get snow depth in m\n",
    "bev[\"snow_depth_m_xbev\"] = (\n",
    "    SR_50_Height_m - bev[\"distance_to_ground_surface_m\"] \n",
    ")\n",
    "\n",
    "bev.insert(3, 'bev_elev_m', 2157)\n",
    "\n",
    "print(bev)"
   ]
  },
  {
   "cell_type": "code",
   "execution_count": 4,
   "id": "fb192061",
   "metadata": {},
   "outputs": [
    {
     "name": "stdout",
     "output_type": "stream",
     "text": [
      "                    date  distance_to_ground_surface_m  xelk_snow_depth_m  \\\n",
      "0    2020-10-01 09:00:00                           NaN                NaN   \n",
      "1    2020-10-01 10:00:00                         2.384              0.016   \n",
      "2    2020-10-01 11:00:00                         2.391              0.009   \n",
      "3    2020-10-01 12:00:00                         2.324              0.076   \n",
      "4    2020-10-01 13:00:00                         2.382              0.018   \n",
      "...                  ...                           ...                ...   \n",
      "6884 2021-07-15 05:00:00                         2.305              0.095   \n",
      "6885 2021-07-15 06:00:00                         2.307              0.093   \n",
      "6886 2021-07-15 07:00:00                         2.304              0.096   \n",
      "6887 2021-07-15 08:00:00                         2.304              0.096   \n",
      "6888 2021-07-15 09:00:00                         2.331              0.069   \n",
      "\n",
      "      elk_elev_m  \n",
      "0           2095  \n",
      "1           2095  \n",
      "2           2095  \n",
      "3           2095  \n",
      "4           2095  \n",
      "...          ...  \n",
      "6884        2095  \n",
      "6885        2095  \n",
      "6886        2095  \n",
      "6887        2095  \n",
      "6888        2095  \n",
      "\n",
      "[6889 rows x 4 columns]\n"
     ]
    }
   ],
   "source": [
    "working_directory = \"/Users/brettoliver/documents/grad_school/code/fres/data/station_climate\" #sets working directory to folder with station dataata\n",
    "os.chdir(working_directory) #changes current directory to 'working_directory'\n",
    "\n",
    "filename = 'XELK_15Jul21_alldatafromlogger.dat'\n",
    "elk = pd.read_csv(filename, skiprows = [0,2,3], header=[0])\n",
    "elk = elk.rename({'TIMESTAMP': 'datetime'}, axis = 1)\n",
    "elk['datetime'] = pd.to_datetime(elk['datetime'], infer_datetime_format=True)\n",
    "elk = elk[['datetime', 'DT_Avg']]\n",
    "elk = elk.rename({'datetime': 'date', 'DT_Avg': 'distance_to_ground_surface_m'}, axis=1) #rename columns\n",
    "elk['distance_to_ground_surface_m'] = elk['distance_to_ground_surface_m'].fillna(0) #fill Na (str) with 0\n",
    "elk['distance_to_ground_surface_m'] = elk['distance_to_ground_surface_m'].astype(float)\n",
    "\n",
    "\n",
    "SR_50_Height_m = 2.4 #Height of SR-50 above ground in meters. See XMOC install report            \n",
    "\n",
    " #subtract SR50 height from the distance to ground to get snow depth in m\n",
    "elk[\"xelk_snow_depth_m\"] = (\n",
    "    SR_50_Height_m - elk[\"distance_to_ground_surface_m\"] \n",
    " )\n",
    "\n",
    "elk.insert(3, 'elk_elev_m', 2095)\n",
    "\n",
    "print(elk)"
   ]
  },
  {
   "cell_type": "code",
   "execution_count": 5,
   "id": "c1b264b3",
   "metadata": {},
   "outputs": [
    {
     "name": "stdout",
     "output_type": "stream",
     "text": [
      "                    date  distance_to_ground_surface_m  x_moc_snow_depth_m  \\\n",
      "0    2020-08-23 13:00:00                         2.069               0.001   \n",
      "1    2020-08-23 14:00:00                         2.065               0.005   \n",
      "2    2020-08-23 15:00:00                         2.054               0.016   \n",
      "3    2020-08-23 16:00:00                         2.056               0.014   \n",
      "4    2020-08-23 17:00:00                         2.057               0.013   \n",
      "...                  ...                           ...                 ...   \n",
      "7464 2021-06-30 16:00:00                         1.935               0.135   \n",
      "7465 2021-06-30 17:00:00                         1.937               0.133   \n",
      "7466 2021-06-30 18:00:00                         1.946               0.124   \n",
      "7467 2021-06-30 19:00:00                         1.939               0.131   \n",
      "7468 2021-06-30 20:00:00                         1.944               0.126   \n",
      "\n",
      "      moc_elev_m  \n",
      "0           2040  \n",
      "1           2040  \n",
      "2           2040  \n",
      "3           2040  \n",
      "4           2040  \n",
      "...          ...  \n",
      "7464        2040  \n",
      "7465        2040  \n",
      "7466        2040  \n",
      "7467        2040  \n",
      "7468        2040  \n",
      "\n",
      "[7469 rows x 4 columns]\n"
     ]
    }
   ],
   "source": [
    "working_directory = \"/Users/brettoliver/documents/grad_school/code/fres/data/station_climate\" #sets working directory to folder with station data\n",
    "os.chdir(working_directory) #changes current directory to 'working_directory'\n",
    "\n",
    "filename = 'XMOC_30Jun2021_alldatafrmdatalogger.dat'\n",
    "moc = pd.read_csv(filename, skiprows = [0,2,3], header=[0])\n",
    "moc = moc.rename({'TIMESTAMP': 'datetime'}, axis = 1)\n",
    "moc['datetime'] = pd.to_datetime(moc['datetime'], infer_datetime_format=True)\n",
    "moc = moc[['datetime', 'INST_DT']]\n",
    "moc = moc.rename({'datetime': 'date', 'INST_DT': 'distance_to_ground_surface_m'}, axis=1)\n",
    "\n",
    "SR_50_Height_m = 2.07 #Height of SR-50 above ground in meters. See XMOC install report            \n",
    "\n",
    "#subtract SR50 height from the distance to ground to get snow depth in m\n",
    "moc[\"x_moc_snow_depth_m\"] = (\n",
    "    SR_50_Height_m - moc[\"distance_to_ground_surface_m\"] \n",
    ")\n",
    "\n",
    "moc.insert(3, 'moc_elev_m', 2040)\n",
    "\n",
    "print(moc)"
   ]
  },
  {
   "cell_type": "code",
   "execution_count": 6,
   "id": "88b0efcb",
   "metadata": {},
   "outputs": [
    {
     "name": "stdout",
     "output_type": "stream",
     "text": [
      "                     date  distance_to_ground_surface_m  x_sya_snow_depth_m  \\\n",
      "0     2019-11-09 16:00:00                         1.908               0.102   \n",
      "1     2019-11-09 17:00:00                         1.891               0.119   \n",
      "2     2019-11-09 18:00:00                         1.890               0.120   \n",
      "3     2019-11-09 19:00:00                         1.912               0.098   \n",
      "4     2019-11-09 20:00:00                         1.913               0.097   \n",
      "...                   ...                           ...                 ...   \n",
      "14332 2021-07-07 16:00:00                         1.795               0.215   \n",
      "14333 2021-07-07 17:00:00                         1.506               0.504   \n",
      "14334 2021-07-07 18:00:00                         1.473               0.537   \n",
      "14335 2021-07-07 19:00:00                         1.769               0.241   \n",
      "14336 2021-07-07 20:00:00                         1.751               0.259   \n",
      "\n",
      "       sya_elev_m  \n",
      "0            1073  \n",
      "1            1073  \n",
      "2            1073  \n",
      "3            1073  \n",
      "4            1073  \n",
      "...           ...  \n",
      "14332        1073  \n",
      "14333        1073  \n",
      "14334        1073  \n",
      "14335        1073  \n",
      "14336        1073  \n",
      "\n",
      "[14337 rows x 4 columns]\n"
     ]
    }
   ],
   "source": [
    "working_directory = \"/Users/brettoliver/documents/grad_school/code/fres/data/station_climate\" #sets working directory to folder with station data\n",
    "os.chdir(working_directory) #changes current directory to 'working_directory'\n",
    "\n",
    "filename = 'XSYA_09Jul2021_alldatafromdatalogger (1).dat'\n",
    "sya = pd.read_csv(filename, skiprows = [0,2,3], header=[0])\n",
    "sya = sya.rename({'TIMESTAMP': 'datetime'}, axis = 1)\n",
    "sya['datetime'] = pd.to_datetime(sya['datetime'], infer_datetime_format=True)\n",
    "sya = sya[['datetime', 'DT_Avg']]\n",
    "sya = sya.rename({'datetime': 'date', 'DT_Avg': 'distance_to_ground_surface_m'}, axis=1)\n",
    "\n",
    "SR_50_Height_m = 2.01 #Height of SR-50 above ground in meters. See XSYA install report            \n",
    "\n",
    "#subtract SR50 height from the distance to ground to get snow depth in m\n",
    "sya[\"x_sya_snow_depth_m\"] = (\n",
    "    SR_50_Height_m - sya[\"distance_to_ground_surface_m\"] \n",
    ")\n",
    "\n",
    "sya.insert(3, 'sya_elev_m', 1073)\n",
    "\n",
    "print(sya)\n"
   ]
  },
  {
   "cell_type": "code",
   "execution_count": 7,
   "id": "6ed16c88",
   "metadata": {
    "scrolled": true
   },
   "outputs": [
    {
     "name": "stdout",
     "output_type": "stream",
     "text": [
      "                    date  snow_depth_m_xbev  xelk_snow_depth_m  \\\n",
      "0    2020-10-07 10:00:00              0.244              0.021   \n",
      "1    2020-10-07 11:00:00              0.267              0.035   \n",
      "2    2020-10-07 12:00:00              0.268              0.000   \n",
      "3    2020-10-07 13:00:00              0.268              0.016   \n",
      "4    2020-10-07 14:00:00              0.271              0.030   \n",
      "...                  ...                ...                ...   \n",
      "6269 2021-06-30 07:00:00              0.351              0.032   \n",
      "6270 2021-06-30 08:00:00              0.359              0.859   \n",
      "6271 2021-06-30 09:00:00              0.386              0.091   \n",
      "6272 2021-06-30 10:00:00              0.360              0.112   \n",
      "6273 2021-06-30 11:00:00              0.389              0.103   \n",
      "\n",
      "      x_moc_snow_depth_m  x_sya_snow_depth_m  sya_elev_m  bev_elev_m  \\\n",
      "0                 -0.025               0.138        1073        2157   \n",
      "1                 -0.013               0.060        1073        2157   \n",
      "2                 -0.006               0.106        1073        2157   \n",
      "3                 -0.007               0.151        1073        2157   \n",
      "4                  0.012               0.171        1073        2157   \n",
      "...                  ...                 ...         ...         ...   \n",
      "6269               0.120               0.191        1073        2157   \n",
      "6270               0.121               0.197        1073        2157   \n",
      "6271               0.122               0.216        1073        2157   \n",
      "6272               0.121               0.227        1073        2157   \n",
      "6273               0.128               0.215        1073        2157   \n",
      "\n",
      "      elk_elev_m  moc_elev_m  \n",
      "0           2095        2040  \n",
      "1           2095        2040  \n",
      "2           2095        2040  \n",
      "3           2095        2040  \n",
      "4           2095        2040  \n",
      "...          ...         ...  \n",
      "6269        2095        2040  \n",
      "6270        2095        2040  \n",
      "6271        2095        2040  \n",
      "6272        2095        2040  \n",
      "6273        2095        2040  \n",
      "\n",
      "[6274 rows x 9 columns]\n"
     ]
    },
    {
     "name": "stderr",
     "output_type": "stream",
     "text": [
      "/var/folders/6y/yz_l2ggj1115f6dr6fh_62fr0000gn/T/ipykernel_45895/573742172.py:3: FutureWarning: Passing 'suffixes' which cause duplicate columns {'distance_to_ground_surface_m_x'} in the result is deprecated and will raise a MergeError in a future version.\n",
      "  combo = pd.merge(combo, sya, on=\"date\")\n"
     ]
    }
   ],
   "source": [
    "combo = pd.merge(bev, elk, on=\"date\") #merge snotel data with climate station data\n",
    "combo = pd.merge(combo, moc, on=\"date\")\n",
    "combo = pd.merge(combo, sya, on=\"date\")\n",
    "combo = combo[['date', 'snow_depth_m_xbev', 'xelk_snow_depth_m', 'x_moc_snow_depth_m', 'x_sya_snow_depth_m', 'sya_elev_m', 'bev_elev_m', 'elk_elev_m', 'moc_elev_m']] #only keep these columns in df\n",
    "combo['xelk_snow_depth_m'][combo['xelk_snow_depth_m'] < 0] = 0 #if depth is <0, set equal to 0\n",
    "\n",
    "print(combo)"
   ]
  },
  {
   "cell_type": "code",
   "execution_count": null,
   "id": "d2d65760",
   "metadata": {},
   "outputs": [],
   "source": []
  }
 ],
 "metadata": {
  "kernelspec": {
   "display_name": "Python 3 (ipykernel)",
   "language": "python",
   "name": "python3"
  },
  "language_info": {
   "codemirror_mode": {
    "name": "ipython",
    "version": 3
   },
   "file_extension": ".py",
   "mimetype": "text/x-python",
   "name": "python",
   "nbconvert_exporter": "python",
   "pygments_lexer": "ipython3",
   "version": "3.9.7"
  }
 },
 "nbformat": 4,
 "nbformat_minor": 5
}
